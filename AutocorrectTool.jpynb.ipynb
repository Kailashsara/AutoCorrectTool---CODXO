{
 "cells": [
  {
   "cell_type": "code",
   "execution_count": 39,
   "id": "97493f06-4100-417a-9374-03b0c339480e",
   "metadata": {},
   "outputs": [
    {
     "name": "stderr",
     "output_type": "stream",
     "text": [
      "[nltk_data] Downloading package words to\n",
      "[nltk_data]     C:\\Users\\sarav\\AppData\\Roaming\\nltk_data...\n",
      "[nltk_data]   Package words is already up-to-date!\n",
      "[nltk_data] Downloading package punkt to\n",
      "[nltk_data]     C:\\Users\\sarav\\AppData\\Roaming\\nltk_data...\n",
      "[nltk_data]   Package punkt is already up-to-date!\n"
     ]
    },
    {
     "name": "stdout",
     "output_type": "stream",
     "text": [
      "Original text: This is a smple text with sme spellling eroors.\n",
      "Corrected text: This is a simple text with some spelling error .\n"
     ]
    }
   ],
   "source": [
    "import nltk\n",
    "from nltk.corpus import words\n",
    "from nltk.tokenize import word_tokenize\n",
    "from collections import Counter\n",
    "import string\n",
    "\n",
    "# Ensure the necessary NLTK datasets are downloaded\n",
    "nltk.download('words')\n",
    "nltk.download('punkt')\n",
    "\n",
    "# Load the words corpus\n",
    "word_list = words.words()\n",
    "\n",
    "# Create a frequency distribution of words from the corpus\n",
    "WORDS = Counter(word_list)\n",
    "\n",
    "def P(word, N=sum(WORDS.values())): \n",
    "    \"Probability of `word`.\"\n",
    "    return WORDS[word] / N\n",
    "\n",
    "def correction(word): \n",
    "    \"Most probable spelling correction for word.\"\n",
    "    return max(candidates(word), key=P)\n",
    "\n",
    "def candidates(word): \n",
    "    \"Generate possible spelling corrections for word.\"\n",
    "    return (known([word]) or known(edits1(word)) or known(edits2(word)) or [word])\n",
    "\n",
    "def known(words): \n",
    "    \"The subset of `words` that appear in the dictionary of WORDS.\"\n",
    "    return set(w for w in words if w in WORDS)\n",
    "\n",
    "def edits1(word):\n",
    "    \"All edits that are one edit away from `word`.\"\n",
    "    letters    = 'abcdefghijklmnopqrstuvwxyz'\n",
    "    splits     = [(word[:i], word[i:]) for i in range(len(word) + 1)]\n",
    "    deletes    = [L + R[1:] for L, R in splits if R]\n",
    "    transposes = [L + R[1] + R[0] + R[2:] for L, R in splits if len(R)>1]\n",
    "    replaces   = [L + c + R[1:] for L, R in splits if R for c in letters]\n",
    "    inserts    = [L + c + R for L, R in splits for c in letters]\n",
    "    return set(deletes + transposes + replaces + inserts)\n",
    "\n",
    "def edits2(word): \n",
    "    \"All edits that are two edits away from `word`.\"\n",
    "    return (e2 for e1 in edits1(word) for e2 in edits1(e1))\n",
    "\n",
    "def autocorrect_text(text):\n",
    "    tokens = word_tokenize(text)\n",
    "    corrected_tokens = []\n",
    "    for word in tokens:\n",
    "        if word.lower() not in string.punctuation:\n",
    "            suggestions = candidates(word.lower())\n",
    "            corrected_word = max(suggestions, key=P)\n",
    "            # Preserve the original capitalization\n",
    "            if word[0].isupper():\n",
    "                corrected_word = corrected_word.capitalize()\n",
    "            corrected_tokens.append(corrected_word)\n",
    "        else:\n",
    "            corrected_tokens.append(word)\n",
    "    corrected_text = ' '.join(corrected_tokens)\n",
    "    return corrected_text\n",
    "\n",
    "# Example usage\n",
    "input_text = \"This is a smple text with sme spellling eroors.\"\n",
    "corrected_text = autocorrect_text(input_text)\n",
    "print(f\"Original text: {input_text}\")\n",
    "print(f\"Corrected text: {corrected_text}\")\n"
   ]
  },
  {
   "cell_type": "code",
   "execution_count": null,
   "id": "c3ce85c5-1350-42c5-874e-5cb1febca37f",
   "metadata": {},
   "outputs": [],
   "source": []
  }
 ],
 "metadata": {
  "kernelspec": {
   "display_name": "Python 3 (ipykernel)",
   "language": "python",
   "name": "python3"
  },
  "language_info": {
   "codemirror_mode": {
    "name": "ipython",
    "version": 3
   },
   "file_extension": ".py",
   "mimetype": "text/x-python",
   "name": "python",
   "nbconvert_exporter": "python",
   "pygments_lexer": "ipython3",
   "version": "3.11.7"
  }
 },
 "nbformat": 4,
 "nbformat_minor": 5
}
